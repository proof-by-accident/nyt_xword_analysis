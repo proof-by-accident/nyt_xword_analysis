{
 "cells": [
  {
   "cell_type": "markdown",
   "metadata": {},
   "source": [
    "# Introduction\n",
    "I like the New York Times (NYT) crossword puzzle. I got started with it as a way to divert my attention from social media, but after about a year or two of pretty regular puzzling, I've really grown an appreciation for the crossword as a craft (at least, the NYT crossword). Crossword constructors can control the puzzle-solver's experience in a number of subtle ways, both in the choices which they make for an individual clue (eg. whether its phrased misleadingly or not) and for the puzzle as a whole (eg. the distribution of easy clues, the placement of black squares). The mixture of these kinds of factors can have a serious impact on how a puzzle \"feels\" to solve. A witty or punny clue that you spend 10 minutes trying to work out gives you a little reward at the end, whereas the intersection of two obscure trivia clues can be an immensely frustrating experience (referred to as a [natick](https://blog.puzzlenation.com/2014/08/01/its-follow-up-friday-that-has-a-name-edition/)).\n",
    "\n",
    "Understanding these principals, and using them to curate crossword puzzles is therefore quite important, made even more so by the fact that the NYT adheres to a difficulty schedule. Mondays are the easiest, with difficulty increasing through to Saturday where it (approximately) maxes out. Sunday crosswords are physically larger (17x17 squares, instead of the usual 15x15), but the difficulty is reduced to the level of a Wed-Fri to make the solve more pleasant.\n",
    "\n",
    "For a while I've been curious about a few things regarding this whole process. For one, I wanted to get a better understanding of the principals of crossword difficulty. To some extent this is a really hard question, for example trying to use off-the-shelf NLP methods to determine the whether something is a pun or not is decidedly nontrivial. On the other hand, this isn't exactly a new question. While doing some background research for this project, found this cool 2014 Bachelor's thesis by Jocelyn Adams: [\"A Pragmatic Analysis of Crossword Puzzle Difficulty\"](https://scholarship.tricolib.brynmawr.edu/bitstream/handle/10066/15350/Adams_thesis_2015.pdf?sequence=1). I'll be using a few of her insights later, so I won't go into the detail of her work now, but needless to say it was quite useful for this project, particularly given my non-existant linguistics background.\n",
    "\n",
    "Besides assessing difficulty, I wanted to take a look at crossword curation. Given that I'm going to look at only a single publication's crossword series, I'm specifically going to focus on Will Shortz's standards, and how they may have evolved over his tenure.  \n",
    "\n",
    "# Getting Data\n",
    "It turns out that actually getting crossword data is a little hard. Up until a few years ago some databases of crossword clues and solutions were maintained by single individuals, but it seems like as of 2020 those are no longer available. This is speculation, but my guess would be that the NYT doesn't want their crossword data publicly available after a [plagiarism scandal](https://fivethirtyeight.com/features/a-plagiarism-scandal-is-unfolding-in-the-crossword-world/) rocked the crossword puzzling world. I'm going to respect that and not include the dataset I've created in the GitHub repo which accompanies the project. However, I am going to show you how I got it. **Important: this method requires a subscription to the NYT crossword puzzle service.** This service includes the bulk of the Shortz era on archive, and unlimited downloads of `.puz` crossword files. As far as I am aware simply automating this procedure oesn't violate any terms of service, but use it at your own peril.\n",
    " \n",
    "A friend of mine told me that any website is an API if you think about, and this is absolutely true of the NYT crossword portal:\n",
    "<img src=\"imgs/nyt_xword_scrot1.png\" width=\"400\"/>\n",
    "\n",
    "Notice up in the right hand corner there's a download button? \n",
    "![image](imgs/nyt_xword_scrot2.png)\n",
    "\n",
    "This button is actually a link which directs you to a URL of the form `https://www.nytimes.com/svc/crosswords/v2/puzzle/XXXXX.puz`, where `XXXXX` is some number.  If you direct your internet browser to this URL (and you're logged in to your NYT crossword subscription) it will hand over a `.puz` file containing a crossword. At time of writing I can't quite figure out the relationship between the ID number `XXXXX` and the returned puzzle. It doesn't increase with the puzzle date, so maybe it's a hash of the puzzle data or something.\n",
    "\n",
    "Starting from your login to the NYT puzzle service, let's take a closer look at the transaction which actually hands over the `.puz` (starting from the time you login to the NYT website):\n",
    "1. You complete a Captcha challenge and send your NYT Crossword username and password to the server which is hosting the crossword app\n",
    "2. The server sends you back some authorization tokens (cookies) which certify that you are who you say you are, without having to log in again \n",
    "3. You direct your browser to the URL `https://www.nytimes.com/svc/crosswords/v2/puzzle/XXXXX.puz`\n",
    "4. Your browser bundles the relevant NYT cookies with  a `GET` request to the server at the above URL\n",
    "5. If the NYT cookies are valid and have not expired, the server will then send back the file `XXXXX.puz`\n",
    "\n",
    "Automating steps 3-5 is fairly simple. Most popular languages (Python, R, Javascript) have functionality (either base or with a package) to send `GET` requests. You could even use Bash tools like `curl` or `wget` wrapped in a little script to incremement the puzzle's ID number. \n",
    "\n",
    "The difficulty is really in steps 1 and 2, and specifically getting past the Captcha. As you might expect, automating Captcha challenges is quite difficult, so we don't have much hope of handling it within our scraper script.  Instead what I ended up doing was simply logging in using the Firefox browser, and then raiding Firefox's cookie database for everything which corresponded to the NYT website. By including all of those cookies with my automated GET requests I was able to successfully tap the endpoints. Because I'm trying to learn it, I implemented this process using Go, and you can find source code for that in the `code/go` directory.\n",
    "\n",
    "\n",
    "# What Does That Get Of You?\n",
    "Of the 30,000 ID numbers tried, just over 10,200 of them returned a puzzle. This is approximately consistent with the number of puzzle's published in the Will Shortz era (365 puzzles per year for Shortz's tenure of 26 years would be 9,490 puzzles). These puzzles are stored in the `.puz` file format, which is a common, open-source format used by most crossword apps or software. It includes all clues (and their number and direction), the puzzle's layout, as well as the solutions (which are typically scrambled by some key phrase). To work with these files, I used the [`puzpy`](https://github.com/alexdej/puzpy) package for python.\n",
    "\n",
    "\n"
   ]
  }
 ],
 "metadata": {
  "kernelspec": {
   "display_name": "R",
   "language": "R",
   "name": "ir"
  },
  "language_info": {
   "codemirror_mode": "r",
   "file_extension": ".r",
   "mimetype": "text/x-r-source",
   "name": "R",
   "pygments_lexer": "r",
   "version": "3.6.3"
  }
 },
 "nbformat": 4,
 "nbformat_minor": 2
}
